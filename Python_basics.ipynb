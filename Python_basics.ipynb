{
 "cells": [
  {
   "cell_type": "code",
   "execution_count": 2,
   "id": "2acbb16b-3e8d-4da8-b313-5164e66595ab",
   "metadata": {},
   "outputs": [
    {
     "name": "stdout",
     "output_type": "stream",
     "text": [
      "hello python\n"
     ]
    }
   ],
   "source": [
    "##Data type :\n",
    "print(\"hello python\")"
   ]
  },
  {
   "cell_type": "code",
   "execution_count": 4,
   "id": "30942ebf-cbcc-4f71-96dd-cd88cb7e76c1",
   "metadata": {},
   "outputs": [],
   "source": [
    "a = 10\n",
    "b = 2.8\n",
    "c = \"Hello 232\""
   ]
  },
  {
   "cell_type": "raw",
   "id": "d101d50e-807a-4e58-9f49-3e9d3a36ceef",
   "metadata": {},
   "source": []
  },
  {
   "cell_type": "code",
   "execution_count": 8,
   "id": "2f401c49-a741-4184-9cb1-0674edfec822",
   "metadata": {},
   "outputs": [
    {
     "name": "stdout",
     "output_type": "stream",
     "text": [
      "<class 'int'>\n",
      "<class 'float'>\n",
      "<class 'str'>\n"
     ]
    }
   ],
   "source": [
    "print(type(a))\n",
    "print(type(b))\n",
    "print(type(c))"
   ]
  },
  {
   "cell_type": "code",
   "execution_count": 10,
   "id": "19f4317d-f8f9-4a35-acac-91341974abcb",
   "metadata": {},
   "outputs": [],
   "source": [
    "#####Math Operation"
   ]
  },
  {
   "cell_type": "code",
   "execution_count": 14,
   "id": "0006b91d-b310-4d30-9347-ddf8bcfbdff4",
   "metadata": {},
   "outputs": [
    {
     "name": "stdout",
     "output_type": "stream",
     "text": [
      "12.8\n",
      "28.0\n",
      "3.5714285714285716\n",
      "7.2\n"
     ]
    }
   ],
   "source": [
    "print(a+b)\n",
    "print(a*b)\n",
    "print(a/b)\n",
    "print(a-b)"
   ]
  },
  {
   "cell_type": "code",
   "execution_count": 16,
   "id": "7b459406-2aa3-4839-97ba-0efc188a142c",
   "metadata": {},
   "outputs": [],
   "source": [
    "#Task"
   ]
  },
  {
   "cell_type": "code",
   "execution_count": 18,
   "id": "12fd8ac7-18d1-41c0-a785-a47339f71f4f",
   "metadata": {},
   "outputs": [
    {
     "name": "stdin",
     "output_type": "stream",
     "text": [
      "Enter a number : 2\n",
      "Enter a number : 4\n",
      "Enter \n",
      " Sum=1 \n",
      " Dif=2 \n",
      " Mul=3 \n",
      " Div=4 \n",
      " Avg=5   : 5\n"
     ]
    },
    {
     "name": "stdout",
     "output_type": "stream",
     "text": [
      "Avg Value is :3.0\n"
     ]
    }
   ],
   "source": [
    "a = int(input(\"Enter a number :\"))\n",
    "b = int(input(\"Enter a number :\"))\n",
    "\n",
    "while True:\n",
    "    c = int(input(\"Enter \\n Sum=1 \\n Dif=2 \\n Mul=3 \\n Div=4 \\n Avg=5   :\"))\n",
    "    if(1<= c <=5):\n",
    "        break\n",
    "    print(\"invalid operator choose 1 between 1-5\")\n",
    "if (c==1):\n",
    "    print(f\"Sum Value is : {a+b}\")                                                                                                                                                                                                          \n",
    "if (c==2): \n",
    "    print(f\"Dif Value is : {a-b}\")\n",
    "if (c==3): \n",
    "    print(f\"Mul Value is : {a*b}\")\n",
    "if (c==4): \n",
    "    print(f\"Div Value is : {a/b}\") \n",
    "if (c ==5): \n",
    "    print(f\"Avg Value is :{(a+b)/2}\")\n",
    "elif(c>=6):  \n",
    "    print(\"Enter 1 or 2 or 3 or 4\") \n",
    "else:\n",
    " print(\"error\")    "
   ]
  },
  {
   "cell_type": "code",
   "execution_count": 20,
   "id": "d6c10168-71fa-4a68-af65-94c3a9aa22f5",
   "metadata": {},
   "outputs": [],
   "source": [
    "###Conditions  "
   ]
  },
  {
   "cell_type": "code",
   "execution_count": null,
   "id": "47c5b8d2-a48f-4de6-9dfb-c1f284f3f1de",
   "metadata": {},
   "outputs": [],
   "source": [
    "#Task"
   ]
  },
  {
   "cell_type": "code",
   "execution_count": 22,
   "id": "f8231504-393e-4a29-9121-bc9b218f53eb",
   "metadata": {},
   "outputs": [
    {
     "name": "stdin",
     "output_type": "stream",
     "text": [
      "Enter a number :  4\n"
     ]
    },
    {
     "name": "stdout",
     "output_type": "stream",
     "text": [
      "4 is Even\n"
     ]
    }
   ],
   "source": [
    "\n",
    "a =int(input(\"Enter a number : \"))\n",
    "if a % 2 == 0:\n",
    "    print(f\"{a} is Even\")\n",
    "else:\n",
    "    print(f\"{a} is Odd\")"
   ]
  },
  {
   "cell_type": "code",
   "execution_count": 24,
   "id": "1eefe809-a0c7-47f0-8c4c-3b8a47557b32",
   "metadata": {},
   "outputs": [
    {
     "name": "stdin",
     "output_type": "stream",
     "text": [
      "Enter a number B :  2\n",
      "Enter a number C :  4\n"
     ]
    },
    {
     "name": "stdout",
     "output_type": "stream",
     "text": [
      "4 is largest number \n"
     ]
    }
   ],
   "source": [
    "b = int(input(\"Enter a number B : \"))\n",
    "c = int(input(\"Enter a number C : \"))\n",
    "if b > c :\n",
    "    print(f\"{b} is largest number \")\n",
    "else:\n",
    "    print(f\"{c} is largest number \")\n"
   ]
  },
  {
   "cell_type": "code",
   "execution_count": 26,
   "id": "be630b08-a847-4dc1-84bd-da6a180dab28",
   "metadata": {},
   "outputs": [
    {
     "name": "stdin",
     "output_type": "stream",
     "text": [
      "Enter your mark :  4\n"
     ]
    },
    {
     "name": "stdout",
     "output_type": "stream",
     "text": [
      "bad \n"
     ]
    }
   ],
   "source": [
    "g =int(input(\"Enter your mark : \"))\n",
    "if 90 <= g <=100:\n",
    "    print(\"very good\")\n",
    "elif 75<= g <90:\n",
    "    print(\"good\")\n",
    "elif 60<= g <75:\n",
    "    print(\"average\")\n",
    "else:\n",
    "    print(\"bad \")"
   ]
  },
  {
   "cell_type": "code",
   "execution_count": 4,
   "id": "731c4863-dc50-4741-8ef5-85c732b82758",
   "metadata": {},
   "outputs": [
    {
     "name": "stdin",
     "output_type": "stream",
     "text": [
      "Enter year : 4\n"
     ]
    },
    {
     "name": "stdout",
     "output_type": "stream",
     "text": [
      "yes leaf\n"
     ]
    }
   ],
   "source": [
    "year =int(input(\"Enter year :\"))\n",
    "if year % 4 == 0:\n",
    "    print(\"yes leaf\")\n",
    "else:\n",
    "    print(\"no leaf\") "
   ]
  },
  {
   "cell_type": "code",
   "execution_count": 6,
   "id": "ede1a1ff-22ed-40df-84d1-f4b15815178f",
   "metadata": {},
   "outputs": [
    {
     "name": "stdin",
     "output_type": "stream",
     "text": [
      "Enter number : 5\n"
     ]
    },
    {
     "name": "stdout",
     "output_type": "stream",
     "text": [
      "positive number\n"
     ]
    }
   ],
   "source": [
    "number = int(input(\"Enter number :\"))\n",
    "if 0 < number:\n",
    "    print(\"positive number\")\n",
    "elif number < 0:\n",
    "    print(\"negative number\")\n",
    "else:\n",
    "    print(\"zero number\")\n"
   ]
  },
  {
   "cell_type": "code",
   "execution_count": 8,
   "id": "272edcc3-cf79-4b7b-ac0b-095a6e09b04b",
   "metadata": {},
   "outputs": [
    {
     "name": "stdin",
     "output_type": "stream",
     "text": [
      "Enter character : y\n"
     ]
    },
    {
     "name": "stdout",
     "output_type": "stream",
     "text": [
      "consonants\n"
     ]
    }
   ],
   "source": [
    "\n",
    "v =input(\"Enter character :\")\n",
    "if v in \"aeiou\" or v in \"AEIOU\":\n",
    "    print(\"vowels\")\n",
    "else:\n",
    "    print(\"consonants\")\n"
   ]
  },
  {
   "cell_type": "code",
   "execution_count": 10,
   "id": "e2613e1f-cf31-4e39-807d-290478b9494d",
   "metadata": {},
   "outputs": [
    {
     "name": "stdin",
     "output_type": "stream",
     "text": [
      "Enter number : 4\n",
      "Enter number : 3\n",
      "Enter number : 5\n"
     ]
    },
    {
     "name": "stdout",
     "output_type": "stream",
     "text": [
      "5 greater number\n"
     ]
    }
   ],
   "source": [
    "n1 = int(input(\"Enter number :\"))\n",
    "n2 = int(input(\"Enter number :\"))\n",
    "n3 = int(input(\"Enter number :\"))\n",
    "\n",
    "if n1 > n2 and n1 > n3:\n",
    "    print(f\"{n1} greater number\")\n",
    "elif n2 > n3 and n2 > n1:\n",
    "    print(f\"{n2} greater number\")\n",
    "else:\n",
    "    print(f\"{n3} greater number\")\n"
   ]
  },
  {
   "cell_type": "code",
   "execution_count": null,
   "id": "1a141913-d294-4e84-a359-0ac186d665db",
   "metadata": {},
   "outputs": [],
   "source": []
  },
  {
   "cell_type": "code",
   "execution_count": 28,
   "id": "352a2c72-4036-4c38-9435-6a27d2293a15",
   "metadata": {},
   "outputs": [],
   "source": [
    "###Loops"
   ]
  },
  {
   "cell_type": "code",
   "execution_count": 30,
   "id": "d517cb27-ca5d-46f8-aff8-589249a69fe6",
   "metadata": {},
   "outputs": [],
   "source": [
    "#Task"
   ]
  },
  {
   "cell_type": "code",
   "execution_count": 12,
   "id": "94eaed6d-9f56-4dfe-b29a-2898f5b4f459",
   "metadata": {},
   "outputs": [
    {
     "name": "stdout",
     "output_type": "stream",
     "text": [
      "Fact = 5040\n"
     ]
    }
   ],
   "source": [
    "#Factorial\n",
    "num2 = 7\n",
    "fact = 1\n",
    "for i in range(1,num2+1):\n",
    "    fact *= i\n",
    "print(\"Fact =\",fact)"
   ]
  },
  {
   "cell_type": "code",
   "execution_count": 14,
   "id": "c94f0670-c837-4e0b-931d-a9b769cc07ff",
   "metadata": {},
   "outputs": [
    {
     "name": "stdout",
     "output_type": "stream",
     "text": [
      "2 4 6 8 10 12 14 16 18 20 22 24 26 28 30 32 34 36 38 40 42 44 46 48 50 "
     ]
    }
   ],
   "source": [
    "#print even number\n",
    "for i in range(1,51):\n",
    "    if i % 2 == 0:\n",
    "        print(i,end =\" \")"
   ]
  },
  {
   "cell_type": "code",
   "execution_count": 16,
   "id": "787910d1-91e0-4ae7-a067-94c15751d116",
   "metadata": {},
   "outputs": [
    {
     "name": "stdout",
     "output_type": "stream",
     "text": [
      "0 1 1 2 3 5 8 13 21 34 "
     ]
    }
   ],
   "source": [
    "#fibbo\n",
    "a,b = 0,1\n",
    "for _ in range(10):\n",
    "    print(a,end=\" \")\n",
    "    a,b = b,a+b"
   ]
  },
  {
   "cell_type": "code",
   "execution_count": 18,
   "id": "c1ed3bd1-384d-4fb2-8e00-05361577310a",
   "metadata": {},
   "outputs": [
    {
     "name": "stdout",
     "output_type": "stream",
     "text": [
      "not prime\n"
     ]
    }
   ],
   "source": [
    "#check prime or not\n",
    "n =10\n",
    "if(n<2):\n",
    "    print(\"not prime\")\n",
    "else:\n",
    " for i in range(2,n+1):\n",
    "    if n % i == 0:\n",
    "        print(\"not prime\")\n",
    "        break\n",
    " else:\n",
    "    print(\"prime\")"
   ]
  },
  {
   "cell_type": "code",
   "execution_count": 24,
   "id": "f9007b21-5dca-44fd-a5f8-e45b5d143351",
   "metadata": {},
   "outputs": [
    {
     "name": "stdout",
     "output_type": "stream",
     "text": [
      "2 3 5 7 11 13 17 19 23 29 31 37 41 43 47 53 59 61 67 71 73 79 83 89 97 "
     ]
    }
   ],
   "source": [
    "#execute prime number\n",
    "for num in range(2, 101):\n",
    "    for i in range(2, num):  # num= 2...50\n",
    "        if num % i == 0: # 2%2,2%3,2%4,...2%50\n",
    "            break\n",
    "    else:\n",
    "        print(num, end=\" \")"
   ]
  },
  {
   "cell_type": "code",
   "execution_count": null,
   "id": "00dd0cbf-0059-4135-83cc-569c1b287bb9",
   "metadata": {},
   "outputs": [],
   "source": [
    "##String topic"
   ]
  },
  {
   "cell_type": "code",
   "execution_count": 26,
   "id": "359be124-f63c-4f5d-adc7-b02824523967",
   "metadata": {},
   "outputs": [],
   "source": [
    "a =\"  hello\"\n",
    "b =\"world\""
   ]
  },
  {
   "cell_type": "code",
   "execution_count": 30,
   "id": "5bbbaba9-3ec1-4320-b63b-46e3989a822f",
   "metadata": {},
   "outputs": [
    {
     "name": "stdout",
     "output_type": "stream",
     "text": [
      "7\n",
      "  helloworld\n",
      "  hello world\n",
      "    h e l l o\n",
      "  HELLO\n",
      "world\n",
      "hello\n",
      "  boy\n"
     ]
    }
   ],
   "source": [
    "print(len(a))\n",
    "print(a+b)\n",
    "print(a,b)\n",
    "print(' '.join(a))\n",
    "print(a.upper())\n",
    "print(b.lower())\n",
    "print(a.strip())\n",
    "print(a.replace('hello','boy'))\n"
   ]
  },
  {
   "cell_type": "code",
   "execution_count": 32,
   "id": "b2626187-1276-4ce0-9141-327774257499",
   "metadata": {},
   "outputs": [
    {
     "data": {
      "text/plain": [
       "'  hello'"
      ]
     },
     "execution_count": 32,
     "metadata": {},
     "output_type": "execute_result"
    }
   ],
   "source": [
    "a[1:6:2]\n",
    "a[::-1]\n",
    "a[-1:-4]\n",
    "a[3:-3]\n",
    "a[:]\n",
    "a[::]\n",
    "a[:len(a)]"
   ]
  },
  {
   "cell_type": "code",
   "execution_count": 34,
   "id": "a1a6075b-9aed-43b5-9589-9a1069fde4f1",
   "metadata": {},
   "outputs": [
    {
     "name": "stdout",
     "output_type": "stream",
     "text": [
      "mathe\n",
      "tics\n",
      "scitamehtam\n"
     ]
    }
   ],
   "source": [
    "a = 'mathematics'\n",
    "print(a[0:5])\n",
    "print(a[-4:])\n",
    "print(a[::-1])"
   ]
  },
  {
   "cell_type": "code",
   "execution_count": null,
   "id": "3be8602f-6093-409b-bbf7-5c39b93980a6",
   "metadata": {},
   "outputs": [],
   "source": [
    "###DS"
   ]
  },
  {
   "cell_type": "code",
   "execution_count": 36,
   "id": "b7e35904-6481-4fb0-b837-6f23aea44ecb",
   "metadata": {},
   "outputs": [
    {
     "name": "stdout",
     "output_type": "stream",
     "text": [
      "[6, 2, 2, 1, 1]\n",
      "[4, 3, 2, 1, 5]\n"
     ]
    }
   ],
   "source": [
    "#list\n",
    "a = [2,1,6,1,2,3]\n",
    "b =[5,1,2,3,4]\n",
    "a.sort(reverse=True)\n",
    "#a.sort()#assenting order\n",
    "a.remove(3) #remove values\n",
    "#a.pop(2)#work index value\n",
    "#a.append(\"hello\")\n",
    "#a.extend(b)#add new value or new variable values\n",
    "#b=a.copy()\n",
    "#a.clear()#delete all values only\n",
    "print(a)\n",
    "b.reverse()\n",
    "print(b)"
   ]
  },
  {
   "cell_type": "code",
   "execution_count": 40,
   "id": "1bc1d779-f041-44d2-ab54-c0bff428aadb",
   "metadata": {},
   "outputs": [
    {
     "name": "stdout",
     "output_type": "stream",
     "text": [
      "{'Name': 'Jack', 'Age': '24', 'Job': 'Cleaner'}\n",
      "Jack\n",
      "{'Name': 'Jack', 'Age': '24', 'Job': 'Cleaner', 'Roll': 'HR'}\n",
      "HR\n",
      "CLEANER\n",
      "('Roll', 'HR')\n",
      "{'Name': 'Jack', 'Age': '24', 'Job': 'Cleaner'}\n",
      "None\n",
      "{}\n"
     ]
    }
   ],
   "source": [
    "#Dictionary:\n",
    "a={\n",
    "    \"Name\":\"Jack\",\n",
    "    \"Age\":\"24\",\n",
    "    \"Job\":\"Cleaner\"\n",
    "}\n",
    "print(a)\n",
    "print(a[\"Name\"])#acces keys value\n",
    "\n",
    "a[\"Roll\"] = \"HR\"#add new value\n",
    "print(a)\n",
    "print(a[\"Roll\"])\n",
    "print(a[\"Job\"].upper())\n",
    "#del a[\"Roll\"] #remove\n",
    "#print(a)\n",
    "#print(a.pop(\"Roll\")) remove roll\n",
    "print(a.popitem()) #remove last iteams only\n",
    "print(a)\n",
    "print(a.clear())  # Removes everything\n",
    "print(a)\n"
   ]
  },
  {
   "cell_type": "code",
   "execution_count": 42,
   "id": "5701e655-3ffb-40ec-816b-e16598029bdd",
   "metadata": {},
   "outputs": [
    {
     "name": "stdout",
     "output_type": "stream",
     "text": [
      "{1, 'hello', 'world'}\n",
      "{1, 4, 5, 6, 'world', 'hello'}\n",
      "{1, 2, 3, 4, 5, 6, 'world', 'hello'}\n",
      "{1, 4, 5, 6, 7, 'world', 'hello'}\n"
     ]
    }
   ],
   "source": [
    "#Sets:\n",
    "a={1,\"hello\",\"world\"}\n",
    "b ={1,2,3}\n",
    "print(a)\n",
    "a.update([4, 5, 6]) ##add multible values\n",
    "print(a)\n",
    "print(a.union(b)) #merge two set\n",
    "a.add(7)#add single value\n",
    "print(a)\n"
   ]
  },
  {
   "cell_type": "code",
   "execution_count": 54,
   "id": "c8f79455-41a7-47a4-b0d9-4be3256e7e3b",
   "metadata": {},
   "outputs": [],
   "source": [
    "# **Function**"
   ]
  },
  {
   "cell_type": "code",
   "execution_count": 44,
   "id": "454817bf-1868-48d6-b13c-452d74fc68f9",
   "metadata": {},
   "outputs": [
    {
     "name": "stdin",
     "output_type": "stream",
     "text": [
      "Enter a number:  3\n",
      "Enter another number:  4\n"
     ]
    },
    {
     "name": "stdout",
     "output_type": "stream",
     "text": [
      "7\n"
     ]
    },
    {
     "name": "stdin",
     "output_type": "stream",
     "text": [
      "Enter a number:  3\n"
     ]
    },
    {
     "name": "stdout",
     "output_type": "stream",
     "text": [
      "Odd\n",
      "default\n"
     ]
    }
   ],
   "source": [
    "##function\n",
    "def add():\n",
    "    a = int(input(\"Enter a number: \"))\n",
    "    b = int(input(\"Enter another number: \"))\n",
    "    print(a + b)\n",
    "add()\n",
    "\n",
    "\n",
    "def check(a):\n",
    "    if a % 2 == 0:\n",
    "        return \"Even\"\n",
    "    else:\n",
    "        return \"Odd\"\n",
    "d =int(input(\"Enter a number: \"))\n",
    "ch = check(d)\n",
    "print(ch)\n",
    "\n",
    "\n",
    "def myfun(parameter = \"default\"):\n",
    "    print(parameter)\n",
    "myfun()\n"
   ]
  },
  {
   "cell_type": "markdown",
   "id": "fd038111-bb02-4208-ba5a-02e3e9ba6f65",
   "metadata": {},
   "source": []
  },
  {
   "cell_type": "code",
   "execution_count": null,
   "id": "ededf534-fa9d-4465-a2a9-d1e149096efa",
   "metadata": {},
   "outputs": [],
   "source": [
    "\n",
    "##Exception handling\n",
    "try:\n",
    "    z = int(input(\"Enter a number: \"))\n",
    "    y = z/0\n",
    "except ZeroDivisionError:\n",
    "    print(\"you can't divide by zero\")\n",
    "\n",
    "\n",
    "try:\n",
    "    x =int(input(\"Enter a number: \"))\n",
    "except ValueError:\n",
    "    print(\"invalid input\")\n",
    "else:\n",
    "    print(x)\n",
    "   \n",
    "\n",
    "\n",
    "try:\n",
    "    a = {\n",
    "        \"Name\": \"Jack\",\"Age\": \"24\",\"Job\": \"Cleaner\"\n",
    "    }\n",
    "    print(a[\"Roll\"])\n",
    "except KeyError:\n",
    "    print(\"key error\")\n",
    "finally:\n",
    "    print('success')"
   ]
  },
  {
   "cell_type": "code",
   "execution_count": null,
   "id": "dd989cf0-0ea1-456d-b022-b3ef6d8473c9",
   "metadata": {},
   "outputs": [],
   "source": []
  },
  {
   "cell_type": "code",
   "execution_count": null,
   "id": "90056292-3b50-412e-9afd-017a373e9065",
   "metadata": {},
   "outputs": [],
   "source": []
  }
 ],
 "metadata": {
  "kernelspec": {
   "display_name": "Python (TensorFlow)",
   "language": "python",
   "name": "tf_env"
  },
  "language_info": {
   "codemirror_mode": {
    "name": "ipython",
    "version": 3
   },
   "file_extension": ".py",
   "mimetype": "text/x-python",
   "name": "python",
   "nbconvert_exporter": "python",
   "pygments_lexer": "ipython3",
   "version": "3.10.16"
  }
 },
 "nbformat": 4,
 "nbformat_minor": 5
}
