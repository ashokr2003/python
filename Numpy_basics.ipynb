{
 "cells": [
  {
   "cell_type": "code",
   "execution_count": 4,
   "id": "34ac51c4-796b-49f3-a113-d807cc185c86",
   "metadata": {},
   "outputs": [],
   "source": [
    "import numpy as np"
   ]
  },
  {
   "cell_type": "code",
   "execution_count": 6,
   "id": "e9b298bb-a583-4a7a-ad36-57cd2452be72",
   "metadata": {},
   "outputs": [],
   "source": [
    "c = np.array([[1,2,0],[4,6,5],[7,8,9]])"
   ]
  },
  {
   "cell_type": "code",
   "execution_count": 8,
   "id": "f67101a8-5924-4180-a29c-9c652d40b772",
   "metadata": {},
   "outputs": [],
   "source": [
    "d = np.ravel(c) #return same array\n",
    "e = c.flatten() "
   ]
  },
  {
   "cell_type": "code",
   "execution_count": 10,
   "id": "413a6b6e-8ad9-4437-b905-25a14339c3c5",
   "metadata": {},
   "outputs": [
    {
     "data": {
      "text/plain": [
       "array([1, 2, 0, 4, 6, 5, 7, 8, 9])"
      ]
     },
     "execution_count": 10,
     "metadata": {},
     "output_type": "execute_result"
    }
   ],
   "source": [
    "d"
   ]
  },
  {
   "cell_type": "code",
   "execution_count": 12,
   "id": "423da4f3-864c-42e3-93d2-04fe6fd168e6",
   "metadata": {},
   "outputs": [
    {
     "data": {
      "text/plain": [
       "array([1, 2, 0, 4, 6, 5, 7, 8, 9])"
      ]
     },
     "execution_count": 12,
     "metadata": {},
     "output_type": "execute_result"
    }
   ],
   "source": [
    "e"
   ]
  },
  {
   "cell_type": "code",
   "execution_count": 14,
   "id": "78417340-d86d-43b1-84c9-7601a22f1fcd",
   "metadata": {},
   "outputs": [],
   "source": [
    "e[0]=33\n"
   ]
  },
  {
   "cell_type": "code",
   "execution_count": 18,
   "id": "ad583a3a-99ee-42e1-8223-90eaef209c0e",
   "metadata": {},
   "outputs": [
    {
     "data": {
      "text/plain": [
       "array([33,  2,  0,  4,  6,  5,  7,  8,  9])"
      ]
     },
     "execution_count": 18,
     "metadata": {},
     "output_type": "execute_result"
    }
   ],
   "source": [
    "e"
   ]
  },
  {
   "cell_type": "code",
   "execution_count": 20,
   "id": "03a23c86-a778-43f0-89ba-8a939102239c",
   "metadata": {},
   "outputs": [
    {
     "data": {
      "text/plain": [
       "array([[1, 2, 0],\n",
       "       [4, 6, 5],\n",
       "       [7, 8, 9]])"
      ]
     },
     "execution_count": 20,
     "metadata": {},
     "output_type": "execute_result"
    }
   ],
   "source": [
    "c"
   ]
  },
  {
   "cell_type": "code",
   "execution_count": 22,
   "id": "21724a97-ae16-40b9-83ba-71624ed76118",
   "metadata": {},
   "outputs": [],
   "source": [
    "d[0] =44"
   ]
  },
  {
   "cell_type": "code",
   "execution_count": 24,
   "id": "cfec7d30-eec3-48a4-954e-b51f0cafd10b",
   "metadata": {},
   "outputs": [
    {
     "data": {
      "text/plain": [
       "array([44,  2,  0,  4,  6,  5,  7,  8,  9])"
      ]
     },
     "execution_count": 24,
     "metadata": {},
     "output_type": "execute_result"
    }
   ],
   "source": [
    "d"
   ]
  },
  {
   "cell_type": "code",
   "execution_count": 26,
   "id": "6b378d63-e2ba-425d-9c9c-439139ca607d",
   "metadata": {},
   "outputs": [
    {
     "data": {
      "text/plain": [
       "array([[44,  2,  0],\n",
       "       [ 4,  6,  5],\n",
       "       [ 7,  8,  9]])"
      ]
     },
     "execution_count": 26,
     "metadata": {},
     "output_type": "execute_result"
    }
   ],
   "source": [
    "c"
   ]
  },
  {
   "cell_type": "code",
   "execution_count": 30,
   "id": "48862231-291c-44e1-81f6-9f19a6bac4ad",
   "metadata": {},
   "outputs": [
    {
     "name": "stdout",
     "output_type": "stream",
     "text": [
      "[2 4 6 8]\n",
      "[ 2  4 33  8]\n"
     ]
    }
   ],
   "source": [
    "import numpy as np\n",
    "Array = np.array([2,4,6,8])\n",
    "print(Array)\n",
    "Array[2]=33\n",
    "print(Array)"
   ]
  },
  {
   "cell_type": "code",
   "execution_count": 44,
   "id": "cdbeebb2-6905-4c12-b8f8-d7ead336570f",
   "metadata": {},
   "outputs": [
    {
     "data": {
      "text/plain": [
       "2"
      ]
     },
     "execution_count": 44,
     "metadata": {},
     "output_type": "execute_result"
    }
   ],
   "source": [
    "Array.min()"
   ]
  },
  {
   "cell_type": "code",
   "execution_count": 46,
   "id": "0fcb848a-f519-448d-bb9d-09b1a798557d",
   "metadata": {},
   "outputs": [
    {
     "data": {
      "text/plain": [
       "33"
      ]
     },
     "execution_count": 46,
     "metadata": {},
     "output_type": "execute_result"
    }
   ],
   "source": [
    "Array.max()"
   ]
  },
  {
   "cell_type": "code",
   "execution_count": 48,
   "id": "1fdd5824-0de6-45e3-a57e-557267c1ef85",
   "metadata": {},
   "outputs": [
    {
     "data": {
      "text/plain": [
       "11.75"
      ]
     },
     "execution_count": 48,
     "metadata": {},
     "output_type": "execute_result"
    }
   ],
   "source": [
    "Array.mean()"
   ]
  },
  {
   "cell_type": "code",
   "execution_count": 63,
   "id": "23e03f19-3642-4ca0-ae3b-1ac3162ee311",
   "metadata": {},
   "outputs": [
    {
     "data": {
      "text/plain": [
       "array([[ 2,  4],\n",
       "       [33,  8]])"
      ]
     },
     "execution_count": 63,
     "metadata": {},
     "output_type": "execute_result"
    }
   ],
   "source": [
    "Array.reshape(2,2)"
   ]
  },
  {
   "cell_type": "code",
   "execution_count": 71,
   "id": "98cc0e3f-c827-46f8-b4f4-693e66d42761",
   "metadata": {},
   "outputs": [
    {
     "name": "stdout",
     "output_type": "stream",
     "text": [
      "[ 2  4 33  8]\n"
     ]
    }
   ],
   "source": [
    "Flatter = Array.flatten()\n",
    "print(Flatter)"
   ]
  },
  {
   "cell_type": "code",
   "execution_count": 73,
   "id": "23f225d8-ffcf-489d-8fc9-4daed6249840",
   "metadata": {},
   "outputs": [
    {
     "data": {
      "text/plain": [
       "array([[6, 4],\n",
       "       [8, 2]])"
      ]
     },
     "execution_count": 73,
     "metadata": {},
     "output_type": "execute_result"
    }
   ],
   "source": [
    "two = np.array([[6,4],[8,2]])\n",
    "two\n"
   ]
  },
  {
   "cell_type": "code",
   "execution_count": 87,
   "id": "e488714c-8aab-44ed-9cdd-cb01a0b7d6b5",
   "metadata": {},
   "outputs": [
    {
     "name": "stdout",
     "output_type": "stream",
     "text": [
      "[[6 4]\n",
      " [8 2]]\n"
     ]
    }
   ],
   "source": [
    "Ver =np.vstack(two)\n",
    "print(Ver)"
   ]
  },
  {
   "cell_type": "code",
   "execution_count": 89,
   "id": "60329cc9-b3af-4ab4-92d0-e6564d267755",
   "metadata": {},
   "outputs": [
    {
     "name": "stdout",
     "output_type": "stream",
     "text": [
      "[6 4 8 2]\n"
     ]
    }
   ],
   "source": [
    "Hori = np.hstack(two)\n",
    "print(Hori)"
   ]
  },
  {
   "cell_type": "code",
   "execution_count": 93,
   "id": "6f1e4019-2de5-47ee-97cd-dcc2973de35f",
   "metadata": {},
   "outputs": [
    {
     "data": {
      "text/plain": [
       "(9,)"
      ]
     },
     "execution_count": 93,
     "metadata": {},
     "output_type": "execute_result"
    }
   ],
   "source": [
    "Oned = np.array([3,3,3,2,4,5,8,6,9])\n",
    "Oned.shape\n"
   ]
  },
  {
   "cell_type": "code",
   "execution_count": 95,
   "id": "ad496c25-a138-4edc-b62d-336b19d5ae89",
   "metadata": {},
   "outputs": [
    {
     "data": {
      "text/plain": [
       "array([[3, 3, 3],\n",
       "       [2, 4, 5],\n",
       "       [8, 6, 9]])"
      ]
     },
     "execution_count": 95,
     "metadata": {},
     "output_type": "execute_result"
    }
   ],
   "source": [
    "Oned.reshape(3,3)"
   ]
  },
  {
   "cell_type": "code",
   "execution_count": 111,
   "id": "cd9fa80c-02c7-47e4-9729-e5ad5392028c",
   "metadata": {},
   "outputs": [
    {
     "name": "stdout",
     "output_type": "stream",
     "text": [
      "Orginal :  [3 3 3 2 4 5 8 6 9]\n"
     ]
    },
    {
     "data": {
      "text/plain": [
       "array([9, 6, 8, 5, 4, 2, 3, 3, 3])"
      ]
     },
     "execution_count": 111,
     "metadata": {},
     "output_type": "execute_result"
    }
   ],
   "source": [
    "Rev = Oned[::-1]\n",
    "print(\"Orginal : \",Oned)\n",
    "Rev"
   ]
  },
  {
   "cell_type": "code",
   "execution_count": null,
   "id": "28203e07-04a6-486d-866f-7bf146d1da2b",
   "metadata": {},
   "outputs": [],
   "source": []
  }
 ],
 "metadata": {
  "kernelspec": {
   "display_name": "Python [conda env:base] *",
   "language": "python",
   "name": "conda-base-py"
  },
  "language_info": {
   "codemirror_mode": {
    "name": "ipython",
    "version": 3
   },
   "file_extension": ".py",
   "mimetype": "text/x-python",
   "name": "python",
   "nbconvert_exporter": "python",
   "pygments_lexer": "ipython3",
   "version": "3.10.16"
  }
 },
 "nbformat": 4,
 "nbformat_minor": 5
}
